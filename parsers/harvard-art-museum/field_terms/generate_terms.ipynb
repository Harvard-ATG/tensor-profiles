{
 "cells": [
  {
   "cell_type": "code",
   "execution_count": 4,
   "metadata": {},
   "outputs": [],
   "source": [
    "import pandas as pd\n",
    "import requests\n",
    "import json"
   ]
  },
  {
   "cell_type": "code",
   "execution_count": 5,
   "metadata": {},
   "outputs": [],
   "source": [
    "apikey = \"2868c9c0-e141-11e8-9234-6f5a1db33697\"\n",
    "params = {\n",
    "    \"apikey\": apikey,\n",
    "    \"size\": 100\n",
    "}"
   ]
  },
  {
   "cell_type": "code",
   "execution_count": null,
   "metadata": {
    "scrolled": true
   },
   "outputs": [],
   "source": [
    "R = requests.get(\"https://api.harvardartmuseums.org/color\", params)"
   ]
  },
  {
   "cell_type": "code",
   "execution_count": null,
   "metadata": {},
   "outputs": [],
   "source": [
    "records = R.json()['records']\n",
    "next_link = R.json()['info']['next']"
   ]
  },
  {
   "cell_type": "code",
   "execution_count": null,
   "metadata": {},
   "outputs": [],
   "source": [
    "page_two = requests.get(next_link)"
   ]
  },
  {
   "cell_type": "code",
   "execution_count": null,
   "metadata": {},
   "outputs": [],
   "source": [
    "records.extend(page_two.json()['records'])"
   ]
  },
  {
   "cell_type": "code",
   "execution_count": null,
   "metadata": {},
   "outputs": [],
   "source": [
    "len(records)"
   ]
  },
  {
   "cell_type": "code",
   "execution_count": 17,
   "metadata": {},
   "outputs": [],
   "source": [
    "def get_all_records(endpoint, params):\n",
    "    R = requests.get(endpoint, params)\n",
    "    records = R.json()['records']\n",
    "    pages = R.json()['info']['pages']\n",
    "    \n",
    "    next_link = None\n",
    "    if 'next' in R.json()['info']:\n",
    "        next_link = R.json()['info']['next']\n",
    "    while next_link is not None:\n",
    "        R = requests.get(next_link)\n",
    "        records.extend(R.json()['records'])\n",
    "        if 'next' in R.json()['info']:\n",
    "            next_link = R.json()['info']['next']\n",
    "        else:\n",
    "            next_link = None\n",
    "    return records"
   ]
  },
  {
   "cell_type": "code",
   "execution_count": 25,
   "metadata": {},
   "outputs": [],
   "source": [
    "century = get_all_records(\"https://api.harvardartmuseums.org/century\", params)\n",
    "color = get_all_records(\"https://api.harvardartmuseums.org/color\", params)\n",
    "culture = get_all_records(\"https://api.harvardartmuseums.org/culture\", params)\n",
    "medium = get_all_records(\"https://api.harvardartmuseums.org/medium\", params)\n",
    "period = get_all_records(\"https://api.harvardartmuseums.org/period\", params)\n",
    "technique = get_all_records(\"https://api.harvardartmuseums.org/technique\", params)\n",
    "worktype = get_all_records(\"https://api.harvardartmuseums.org/worktype\", params)"
   ]
  },
  {
   "cell_type": "code",
   "execution_count": 45,
   "metadata": {
    "scrolled": true
   },
   "outputs": [],
   "source": [
    "century = sorted(century, key = lambda i: i['temporalorder'])\n",
    "culture = sorted(culture, key = lambda i: i['name'])\n"
   ]
  },
  {
   "cell_type": "code",
   "execution_count": 40,
   "metadata": {},
   "outputs": [],
   "source": [
    "def dump_all_json(search_properties):\n",
    "    for key, value in search_properties.items():\n",
    "        print(f\"{key}: {len(value)}\")\n",
    "        with open(f\"{key}.json\", \"w\") as fout:\n",
    "            json.dump(value, fout)"
   ]
  },
  {
   "cell_type": "code",
   "execution_count": 42,
   "metadata": {},
   "outputs": [
    {
     "name": "stdout",
     "output_type": "stream",
     "text": [
      "century: 47\n",
      "color: 147\n",
      "period: 314\n",
      "medium: 271\n",
      "culture: 255\n",
      "worktype: 410\n"
     ]
    }
   ],
   "source": [
    "api_static_properties = {\n",
    "    \"century\": century,\n",
    "    \"color\": color,\n",
    "    \"period\": period,\n",
    "    \"medium\": medium,\n",
    "    \"culture\": culture,\n",
    "    \"worktype\": worktype\n",
    "}\n",
    "dump_all_json(api_static_properties)"
   ]
  },
  {
   "cell_type": "code",
   "execution_count": null,
   "metadata": {},
   "outputs": [],
   "source": []
  }
 ],
 "metadata": {
  "kernelspec": {
   "display_name": "Python 3",
   "language": "python",
   "name": "python3"
  },
  "language_info": {
   "codemirror_mode": {
    "name": "ipython",
    "version": 3
   },
   "file_extension": ".py",
   "mimetype": "text/x-python",
   "name": "python",
   "nbconvert_exporter": "python",
   "pygments_lexer": "ipython3",
   "version": "3.6.9"
  }
 },
 "nbformat": 4,
 "nbformat_minor": 4
}
